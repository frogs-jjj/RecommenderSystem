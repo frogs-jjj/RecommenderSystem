{
 "cells": [
  {
   "cell_type": "markdown",
   "metadata": {},
   "source": [
    "## 地点推荐系统"
   ]
  },
  {
   "cell_type": "markdown",
   "metadata": {},
   "source": [
    "## 读取数据"
   ]
  },
  {
   "cell_type": "code",
   "execution_count": 1,
   "metadata": {},
   "outputs": [],
   "source": [
    "import numpy as np\n",
    "import pandas as pd\n",
    "import os"
   ]
  },
  {
   "cell_type": "code",
   "execution_count": 2,
   "metadata": {},
   "outputs": [],
   "source": [
    "datasrc = './data/mappedpoiinfo.txt'\n",
    "dataset = pd.read_table(datasrc, header = None, delim_whitespace = True, names = ['ID', 'latitude', 'longtitude', 'city', 'subclass1', 'subclass2'])"
   ]
  },
  {
   "cell_type": "code",
   "execution_count": 3,
   "metadata": {},
   "outputs": [
    {
     "data": {
      "text/html": [
       "<div>\n",
       "<style scoped>\n",
       "    .dataframe tbody tr th:only-of-type {\n",
       "        vertical-align: middle;\n",
       "    }\n",
       "\n",
       "    .dataframe tbody tr th {\n",
       "        vertical-align: top;\n",
       "    }\n",
       "\n",
       "    .dataframe thead th {\n",
       "        text-align: right;\n",
       "    }\n",
       "</style>\n",
       "<table border=\"1\" class=\"dataframe\">\n",
       "  <thead>\n",
       "    <tr style=\"text-align: right;\">\n",
       "      <th></th>\n",
       "      <th>ID</th>\n",
       "      <th>latitude</th>\n",
       "      <th>longtitude</th>\n",
       "      <th>city</th>\n",
       "      <th>subclass1</th>\n",
       "      <th>subclass2</th>\n",
       "    </tr>\n",
       "  </thead>\n",
       "  <tbody>\n",
       "    <tr>\n",
       "      <th>0</th>\n",
       "      <td>107780</td>\n",
       "      <td>22.297428</td>\n",
       "      <td>114.172607</td>\n",
       "      <td>overseas</td>\n",
       "      <td>公共机构/办公/住宅</td>\n",
       "      <td>公寓/小区/里弄</td>\n",
       "    </tr>\n",
       "    <tr>\n",
       "      <th>1</th>\n",
       "      <td>70990</td>\n",
       "      <td>31.136839</td>\n",
       "      <td>121.422639</td>\n",
       "      <td>shanghai</td>\n",
       "      <td>NaN</td>\n",
       "      <td>NaN</td>\n",
       "    </tr>\n",
       "    <tr>\n",
       "      <th>2</th>\n",
       "      <td>132379</td>\n",
       "      <td>31.232181</td>\n",
       "      <td>121.397632</td>\n",
       "      <td>shanghai</td>\n",
       "      <td>NaN</td>\n",
       "      <td>NaN</td>\n",
       "    </tr>\n",
       "    <tr>\n",
       "      <th>3</th>\n",
       "      <td>38132</td>\n",
       "      <td>34.266345</td>\n",
       "      <td>117.187751</td>\n",
       "      <td>xuzhou</td>\n",
       "      <td>餐饮</td>\n",
       "      <td>咖啡馆</td>\n",
       "    </tr>\n",
       "    <tr>\n",
       "      <th>4</th>\n",
       "      <td>104522</td>\n",
       "      <td>27.700000</td>\n",
       "      <td>85.333333</td>\n",
       "      <td>overseas</td>\n",
       "      <td>NaN</td>\n",
       "      <td>NaN</td>\n",
       "    </tr>\n",
       "  </tbody>\n",
       "</table>\n",
       "</div>"
      ],
      "text/plain": [
       "       ID   latitude  longtitude      city   subclass1 subclass2\n",
       "0  107780  22.297428  114.172607  overseas  公共机构/办公/住宅  公寓/小区/里弄\n",
       "1   70990  31.136839  121.422639  shanghai         NaN       NaN\n",
       "2  132379  31.232181  121.397632  shanghai         NaN       NaN\n",
       "3   38132  34.266345  117.187751    xuzhou          餐饮       咖啡馆\n",
       "4  104522  27.700000   85.333333  overseas         NaN       NaN"
      ]
     },
     "execution_count": 3,
     "metadata": {},
     "output_type": "execute_result"
    }
   ],
   "source": [
    "dataset.head()"
   ]
  },
  {
   "cell_type": "code",
   "execution_count": null,
   "metadata": {},
   "outputs": [],
   "source": []
  }
 ],
 "metadata": {
  "kernelspec": {
   "display_name": "Python 3",
   "language": "python",
   "name": "python3"
  },
  "language_info": {
   "codemirror_mode": {
    "name": "ipython",
    "version": 3
   },
   "file_extension": ".py",
   "mimetype": "text/x-python",
   "name": "python",
   "nbconvert_exporter": "python",
   "pygments_lexer": "ipython3",
   "version": "3.5.2"
  }
 },
 "nbformat": 4,
 "nbformat_minor": 2
}
