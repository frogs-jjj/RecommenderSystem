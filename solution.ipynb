{
 "cells": [
  {
   "cell_type": "markdown",
   "metadata": {},
   "source": [
    "## 地点推荐系统"
   ]
  },
  {
   "cell_type": "markdown",
   "metadata": {},
   "source": [
    "## 读取数据"
   ]
  },
  {
   "cell_type": "markdown",
   "metadata": {},
   "source": [
    "### 读取位置信息 "
   ]
  },
  {
   "cell_type": "code",
   "execution_count": 1,
   "metadata": {},
   "outputs": [],
   "source": [
    "import numpy as np\n",
    "import pandas as pd\n",
    "import os"
   ]
  },
  {
   "cell_type": "code",
   "execution_count": 2,
   "metadata": {},
   "outputs": [],
   "source": [
    "posdatasrc = './data/mappedpoiinfo.txt'\n",
    "pos_dataset = pd.read_table(posdatasrc, header = None, delim_whitespace = True, names = ['ID', 'latitude', 'longtitude', 'city', 'subclass1', 'subclass2'])"
   ]
  },
  {
   "cell_type": "markdown",
   "metadata": {},
   "source": [
    "### 查看位置信息"
   ]
  },
  {
   "cell_type": "code",
   "execution_count": 4,
   "metadata": {},
   "outputs": [
    {
     "name": "stdout",
     "output_type": "stream",
     "text": [
      "<class 'pandas.core.frame.DataFrame'>\n",
      "RangeIndex: 151106 entries, 0 to 151105\n",
      "Data columns (total 6 columns):\n",
      "ID            151106 non-null int64\n",
      "latitude      151106 non-null float64\n",
      "longtitude    151106 non-null float64\n",
      "city          148472 non-null object\n",
      "subclass1     90632 non-null object\n",
      "subclass2     90632 non-null object\n",
      "dtypes: float64(2), int64(1), object(3)\n",
      "memory usage: 6.9+ MB\n",
      "Columns with null values:\n",
      " ID                0\n",
      "latitude          0\n",
      "longtitude        0\n",
      "city           2634\n",
      "subclass1     60474\n",
      "subclass2     60474\n",
      "dtype: int64\n"
     ]
    }
   ],
   "source": [
    "pos_dataset.info()\n",
    "print('Columns with null values:\\n', pos_dataset.isnull().sum())"
   ]
  },
  {
   "cell_type": "code",
   "execution_count": 5,
   "metadata": {},
   "outputs": [
    {
     "data": {
      "text/html": [
       "<div>\n",
       "<style scoped>\n",
       "    .dataframe tbody tr th:only-of-type {\n",
       "        vertical-align: middle;\n",
       "    }\n",
       "\n",
       "    .dataframe tbody tr th {\n",
       "        vertical-align: top;\n",
       "    }\n",
       "\n",
       "    .dataframe thead th {\n",
       "        text-align: right;\n",
       "    }\n",
       "</style>\n",
       "<table border=\"1\" class=\"dataframe\">\n",
       "  <thead>\n",
       "    <tr style=\"text-align: right;\">\n",
       "      <th></th>\n",
       "      <th>ID</th>\n",
       "      <th>latitude</th>\n",
       "      <th>longtitude</th>\n",
       "      <th>city</th>\n",
       "      <th>subclass1</th>\n",
       "      <th>subclass2</th>\n",
       "    </tr>\n",
       "  </thead>\n",
       "  <tbody>\n",
       "    <tr>\n",
       "      <th>0</th>\n",
       "      <td>107780</td>\n",
       "      <td>22.297428</td>\n",
       "      <td>114.172607</td>\n",
       "      <td>overseas</td>\n",
       "      <td>公共机构/办公/住宅</td>\n",
       "      <td>公寓/小区/里弄</td>\n",
       "    </tr>\n",
       "    <tr>\n",
       "      <th>1</th>\n",
       "      <td>70990</td>\n",
       "      <td>31.136839</td>\n",
       "      <td>121.422639</td>\n",
       "      <td>shanghai</td>\n",
       "      <td>NaN</td>\n",
       "      <td>NaN</td>\n",
       "    </tr>\n",
       "    <tr>\n",
       "      <th>2</th>\n",
       "      <td>132379</td>\n",
       "      <td>31.232181</td>\n",
       "      <td>121.397632</td>\n",
       "      <td>shanghai</td>\n",
       "      <td>NaN</td>\n",
       "      <td>NaN</td>\n",
       "    </tr>\n",
       "    <tr>\n",
       "      <th>3</th>\n",
       "      <td>38132</td>\n",
       "      <td>34.266345</td>\n",
       "      <td>117.187751</td>\n",
       "      <td>xuzhou</td>\n",
       "      <td>餐饮</td>\n",
       "      <td>咖啡馆</td>\n",
       "    </tr>\n",
       "    <tr>\n",
       "      <th>4</th>\n",
       "      <td>104522</td>\n",
       "      <td>27.700000</td>\n",
       "      <td>85.333333</td>\n",
       "      <td>overseas</td>\n",
       "      <td>NaN</td>\n",
       "      <td>NaN</td>\n",
       "    </tr>\n",
       "  </tbody>\n",
       "</table>\n",
       "</div>"
      ],
      "text/plain": [
       "       ID   latitude  longtitude      city   subclass1 subclass2\n",
       "0  107780  22.297428  114.172607  overseas  公共机构/办公/住宅  公寓/小区/里弄\n",
       "1   70990  31.136839  121.422639  shanghai         NaN       NaN\n",
       "2  132379  31.232181  121.397632  shanghai         NaN       NaN\n",
       "3   38132  34.266345  117.187751    xuzhou          餐饮       咖啡馆\n",
       "4  104522  27.700000   85.333333  overseas         NaN       NaN"
      ]
     },
     "execution_count": 5,
     "metadata": {},
     "output_type": "execute_result"
    }
   ],
   "source": [
    "pos_dataset.head()"
   ]
  },
  {
   "cell_type": "markdown",
   "metadata": {},
   "source": [
    "subclass1是位置的粗类别，Series中的value_counts函数可以将Series归类。粗类别中共有八类地点："
   ]
  },
  {
   "cell_type": "code",
   "execution_count": 27,
   "metadata": {},
   "outputs": [
    {
     "name": "stdout",
     "output_type": "stream",
     "text": [
      "values in subclass 1:\n",
      "\n",
      "餐饮            33000\n",
      "交通/住宿         14573\n",
      "公共机构/办公/住宅    12162\n",
      "商店/生活服务       11511\n",
      "休闲/娱乐/文化       6271\n",
      "景点/户外          5906\n",
      "学校/教育机构        3623\n",
      "其他地点           3586\n",
      "Name: subclass1, dtype: int64\n"
     ]
    }
   ],
   "source": [
    "print('values in subclass 1:\\n')\n",
    "print(pos_dataset[\"subclass1\"].value_counts())"
   ]
  },
  {
   "cell_type": "markdown",
   "metadata": {},
   "source": [
    "对细类别做同样的操作"
   ]
  },
  {
   "cell_type": "code",
   "execution_count": 28,
   "metadata": {},
   "outputs": [
    {
     "name": "stdout",
     "output_type": "stream",
     "text": [
      "values in subclass 2:\n",
      "\n"
     ]
    },
    {
     "data": {
      "text/plain": [
       "其他            7267\n",
       "公寓式酒店         5281\n",
       "公寓/小区/里弄      4083\n",
       "小吃            3341\n",
       "火锅            3132\n",
       "写字楼/办公室       3009\n",
       "快餐            2859\n",
       "咖啡馆           2616\n",
       "面包/甜品         2126\n",
       "公交站           1744\n",
       "隐私地点          1568\n",
       "日本料理          1550\n",
       "四川菜           1500\n",
       "医院/医疗中心/诊所    1481\n",
       "西餐            1468\n",
       "综合商场          1438\n",
       "饮料/冰品         1425\n",
       "时尚服饰          1376\n",
       "道路/高速公路       1302\n",
       "上海菜           1270\n",
       "地铁站/轻轨站       1269\n",
       "江浙菜           1259\n",
       "广东菜           1174\n",
       "便利店           1140\n",
       "风景区           1059\n",
       "机场            1026\n",
       "酒吧             939\n",
       "经济型酒店          932\n",
       "公园             922\n",
       "烧烤             892\n",
       "              ... \n",
       "学校教室            52\n",
       "停车场/车库          51\n",
       "礼品店             46\n",
       "药店              44\n",
       "贵州菜             39\n",
       "公司餐厅            37\n",
       "烟/酒/茶商店         36\n",
       "湖北菜             35\n",
       "玩具店             33\n",
       "软件/音像           32\n",
       "学校实验室           29\n",
       "旅行社             26\n",
       "文具/办公用品         22\n",
       "植物园             22\n",
       "网吧              21\n",
       "高尔夫球场           20\n",
       "纹身店             18\n",
       "澳门菜             15\n",
       "花店              14\n",
       "ATM             14\n",
       "出租车停靠点          11\n",
       "露营地             10\n",
       "租车服务             9\n",
       "彩票站              8\n",
       "美甲               8\n",
       "五金商店             5\n",
       "成人用品             5\n",
       "学校健身房            3\n",
       "报刊亭/充值卡点         2\n",
       "洗衣店/干洗店          1\n",
       "Name: subclass2, Length: 157, dtype: int64"
      ]
     },
     "execution_count": 28,
     "metadata": {},
     "output_type": "execute_result"
    }
   ],
   "source": [
    "print('values in subclass 2:\\n')\n",
    "pos_dataset[\"subclass2\"].value_counts()"
   ]
  },
  {
   "cell_type": "markdown",
   "metadata": {},
   "source": [
    "### 读取用户信息"
   ]
  },
  {
   "cell_type": "markdown",
   "metadata": {},
   "source": [
    "在内存较小的计算机中，在Jupyter中直接读取88M的源文件会导致程序崩溃。Pandas中可以指定每次读取文本的Chunksize从而避免内存问题，但是时间耗费还是很久。这里换了平常使用的windows机器才成功读取数据"
   ]
  },
  {
   "cell_type": "code",
   "execution_count": 29,
   "metadata": {},
   "outputs": [],
   "source": [
    "train_datasrc = './data/train.txt'\n",
    "train_dataset_chunk = pd.read_table(train_datasrc, header = None, delimiter = ',', names = ['UID', 'PID', 'visit_times'], iterator = True, chunksize = 10000)\n",
    "train_dataset = pd.concat(train_dataset_chunk)"
   ]
  },
  {
   "cell_type": "markdown",
   "metadata": {},
   "source": [
    "读取数据后，查看用户数据信息，发现数据比较规整，不包含NULL"
   ]
  },
  {
   "cell_type": "code",
   "execution_count": 9,
   "metadata": {},
   "outputs": [
    {
     "name": "stdout",
     "output_type": "stream",
     "text": [
      "<class 'pandas.core.frame.DataFrame'>\n",
      "RangeIndex: 7043344 entries, 0 to 7043343\n",
      "Data columns (total 3 columns):\n",
      "UID            int64\n",
      "PID            int64\n",
      "visit_times    int64\n",
      "dtypes: int64(3)\n",
      "memory usage: 161.2 MB\n",
      "Columns with null values:\n",
      " UID            0\n",
      "PID            0\n",
      "visit_times    0\n",
      "dtype: int64\n"
     ]
    }
   ],
   "source": [
    "train_dataset.info()\n",
    "print('Columns with null values:\\n', train_dataset.isnull().sum())"
   ]
  },
  {
   "cell_type": "code",
   "execution_count": 10,
   "metadata": {},
   "outputs": [
    {
     "data": {
      "text/html": [
       "<div>\n",
       "<style scoped>\n",
       "    .dataframe tbody tr th:only-of-type {\n",
       "        vertical-align: middle;\n",
       "    }\n",
       "\n",
       "    .dataframe tbody tr th {\n",
       "        vertical-align: top;\n",
       "    }\n",
       "\n",
       "    .dataframe thead th {\n",
       "        text-align: right;\n",
       "    }\n",
       "</style>\n",
       "<table border=\"1\" class=\"dataframe\">\n",
       "  <thead>\n",
       "    <tr style=\"text-align: right;\">\n",
       "      <th></th>\n",
       "      <th>UID</th>\n",
       "      <th>PID</th>\n",
       "      <th>visit_times</th>\n",
       "    </tr>\n",
       "  </thead>\n",
       "  <tbody>\n",
       "    <tr>\n",
       "      <th>0</th>\n",
       "      <td>0</td>\n",
       "      <td>0</td>\n",
       "      <td>1</td>\n",
       "    </tr>\n",
       "    <tr>\n",
       "      <th>1</th>\n",
       "      <td>0</td>\n",
       "      <td>1</td>\n",
       "      <td>1</td>\n",
       "    </tr>\n",
       "    <tr>\n",
       "      <th>2</th>\n",
       "      <td>0</td>\n",
       "      <td>2</td>\n",
       "      <td>1</td>\n",
       "    </tr>\n",
       "    <tr>\n",
       "      <th>3</th>\n",
       "      <td>0</td>\n",
       "      <td>3</td>\n",
       "      <td>1</td>\n",
       "    </tr>\n",
       "    <tr>\n",
       "      <th>4</th>\n",
       "      <td>0</td>\n",
       "      <td>4</td>\n",
       "      <td>1</td>\n",
       "    </tr>\n",
       "  </tbody>\n",
       "</table>\n",
       "</div>"
      ],
      "text/plain": [
       "   UID  PID  visit_times\n",
       "0    0    0            1\n",
       "1    0    1            1\n",
       "2    0    2            1\n",
       "3    0    3            1\n",
       "4    0    4            1"
      ]
     },
     "execution_count": 10,
     "metadata": {},
     "output_type": "execute_result"
    }
   ],
   "source": [
    "train_dataset.head()"
   ]
  },
  {
   "cell_type": "markdown",
   "metadata": {},
   "source": [
    "## 数据清洗"
   ]
  },
  {
   "cell_type": "markdown",
   "metadata": {},
   "source": [
    "### LabelEncoding"
   ]
  },
  {
   "cell_type": "markdown",
   "metadata": {},
   "source": [
    "粗类别和细类别使用的是中文标签，"
   ]
  },
  {
   "cell_type": "code",
   "execution_count": 22,
   "metadata": {
    "scrolled": true
   },
   "outputs": [
    {
     "data": {
      "text/html": [
       "<div>\n",
       "<style scoped>\n",
       "    .dataframe tbody tr th:only-of-type {\n",
       "        vertical-align: middle;\n",
       "    }\n",
       "\n",
       "    .dataframe tbody tr th {\n",
       "        vertical-align: top;\n",
       "    }\n",
       "\n",
       "    .dataframe thead th {\n",
       "        text-align: right;\n",
       "    }\n",
       "</style>\n",
       "<table border=\"1\" class=\"dataframe\">\n",
       "  <thead>\n",
       "    <tr style=\"text-align: right;\">\n",
       "      <th></th>\n",
       "      <th>subcode1</th>\n",
       "      <th>subclass1</th>\n",
       "    </tr>\n",
       "  </thead>\n",
       "  <tbody>\n",
       "    <tr>\n",
       "      <th>0</th>\n",
       "      <td>3</td>\n",
       "      <td>公共机构/办公/住宅</td>\n",
       "    </tr>\n",
       "    <tr>\n",
       "      <th>1</th>\n",
       "      <td>0</td>\n",
       "      <td>NaN</td>\n",
       "    </tr>\n",
       "    <tr>\n",
       "      <th>2</th>\n",
       "      <td>0</td>\n",
       "      <td>NaN</td>\n",
       "    </tr>\n",
       "    <tr>\n",
       "      <th>3</th>\n",
       "      <td>8</td>\n",
       "      <td>餐饮</td>\n",
       "    </tr>\n",
       "    <tr>\n",
       "      <th>4</th>\n",
       "      <td>0</td>\n",
       "      <td>NaN</td>\n",
       "    </tr>\n",
       "    <tr>\n",
       "      <th>5</th>\n",
       "      <td>1</td>\n",
       "      <td>交通/住宿</td>\n",
       "    </tr>\n",
       "    <tr>\n",
       "      <th>6</th>\n",
       "      <td>0</td>\n",
       "      <td>NaN</td>\n",
       "    </tr>\n",
       "    <tr>\n",
       "      <th>7</th>\n",
       "      <td>5</td>\n",
       "      <td>商店/生活服务</td>\n",
       "    </tr>\n",
       "    <tr>\n",
       "      <th>8</th>\n",
       "      <td>0</td>\n",
       "      <td>NaN</td>\n",
       "    </tr>\n",
       "    <tr>\n",
       "      <th>9</th>\n",
       "      <td>0</td>\n",
       "      <td>NaN</td>\n",
       "    </tr>\n",
       "  </tbody>\n",
       "</table>\n",
       "</div>"
      ],
      "text/plain": [
       "   subcode1   subclass1\n",
       "0         3  公共机构/办公/住宅\n",
       "1         0         NaN\n",
       "2         0         NaN\n",
       "3         8          餐饮\n",
       "4         0         NaN\n",
       "5         1       交通/住宿\n",
       "6         0         NaN\n",
       "7         5     商店/生活服务\n",
       "8         0         NaN\n",
       "9         0         NaN"
      ]
     },
     "execution_count": 22,
     "metadata": {},
     "output_type": "execute_result"
    }
   ],
   "source": [
    "from sklearn.preprocessing import LabelEncoder\n",
    "# astype('str')是必须的，因为待处理的Series里面包含了Nan值\n",
    "# 参考https://stackoverflow.com/questions/46406720/labelencoder-typeerror-not-supported-between-instances-of-float-and-str\n",
    "lb_make = LabelEncoder()\n",
    "pos_dataset[\"subcode1\"] = lb_make.fit_transform(pos_dataset[\"subclass1\"].astype('str'))\n",
    "pos_dataset[[\"subcode1\", \"subclass1\"]].head(10)"
   ]
  },
  {
   "cell_type": "code",
   "execution_count": 25,
   "metadata": {},
   "outputs": [
    {
     "data": {
      "text/html": [
       "<div>\n",
       "<style scoped>\n",
       "    .dataframe tbody tr th:only-of-type {\n",
       "        vertical-align: middle;\n",
       "    }\n",
       "\n",
       "    .dataframe tbody tr th {\n",
       "        vertical-align: top;\n",
       "    }\n",
       "\n",
       "    .dataframe thead th {\n",
       "        text-align: right;\n",
       "    }\n",
       "</style>\n",
       "<table border=\"1\" class=\"dataframe\">\n",
       "  <thead>\n",
       "    <tr style=\"text-align: right;\">\n",
       "      <th></th>\n",
       "      <th>subcode2</th>\n",
       "      <th>subclass2</th>\n",
       "    </tr>\n",
       "  </thead>\n",
       "  <tbody>\n",
       "    <tr>\n",
       "      <th>0</th>\n",
       "      <td>21</td>\n",
       "      <td>公寓/小区/里弄</td>\n",
       "    </tr>\n",
       "    <tr>\n",
       "      <th>1</th>\n",
       "      <td>3</td>\n",
       "      <td>NaN</td>\n",
       "    </tr>\n",
       "    <tr>\n",
       "      <th>2</th>\n",
       "      <td>3</td>\n",
       "      <td>NaN</td>\n",
       "    </tr>\n",
       "    <tr>\n",
       "      <th>3</th>\n",
       "      <td>39</td>\n",
       "      <td>咖啡馆</td>\n",
       "    </tr>\n",
       "    <tr>\n",
       "      <th>4</th>\n",
       "      <td>3</td>\n",
       "      <td>NaN</td>\n",
       "    </tr>\n",
       "    <tr>\n",
       "      <th>5</th>\n",
       "      <td>42</td>\n",
       "      <td>地铁站/轻轨站</td>\n",
       "    </tr>\n",
       "    <tr>\n",
       "      <th>6</th>\n",
       "      <td>3</td>\n",
       "      <td>NaN</td>\n",
       "    </tr>\n",
       "    <tr>\n",
       "      <th>7</th>\n",
       "      <td>84</td>\n",
       "      <td>时尚服饰</td>\n",
       "    </tr>\n",
       "    <tr>\n",
       "      <th>8</th>\n",
       "      <td>3</td>\n",
       "      <td>NaN</td>\n",
       "    </tr>\n",
       "    <tr>\n",
       "      <th>9</th>\n",
       "      <td>3</td>\n",
       "      <td>NaN</td>\n",
       "    </tr>\n",
       "  </tbody>\n",
       "</table>\n",
       "</div>"
      ],
      "text/plain": [
       "   subcode2 subclass2\n",
       "0        21  公寓/小区/里弄\n",
       "1         3       NaN\n",
       "2         3       NaN\n",
       "3        39       咖啡馆\n",
       "4         3       NaN\n",
       "5        42   地铁站/轻轨站\n",
       "6         3       NaN\n",
       "7        84      时尚服饰\n",
       "8         3       NaN\n",
       "9         3       NaN"
      ]
     },
     "execution_count": 25,
     "metadata": {},
     "output_type": "execute_result"
    }
   ],
   "source": [
    "pos_dataset[\"subcode2\"] = lb_make.fit_transform(pos_dataset[\"subclass2\"].astype('str'))\n",
    "pos_dataset[[\"subcode2\", \"subclass2\"]].head(10)"
   ]
  },
  {
   "cell_type": "markdown",
   "metadata": {},
   "source": [
    "### One-Hot Encoding"
   ]
  },
  {
   "cell_type": "markdown",
   "metadata": {},
   "source": [
    "### 相似度分析"
   ]
  },
  {
   "cell_type": "markdown",
   "metadata": {},
   "source": [
    "皮尔逊相关系数"
   ]
  },
  {
   "cell_type": "markdown",
   "metadata": {},
   "source": [
    "基于物品的相似度（item-based）和基于用户的相似度（user-based）"
   ]
  },
  {
   "cell_type": "markdown",
   "metadata": {},
   "source": [
    "SVD"
   ]
  },
  {
   "cell_type": "markdown",
   "metadata": {},
   "source": [
    "### 推荐系统的评价"
   ]
  },
  {
   "cell_type": "code",
   "execution_count": null,
   "metadata": {},
   "outputs": [],
   "source": []
  }
 ],
 "metadata": {
  "kernelspec": {
   "display_name": "Python 3",
   "language": "python",
   "name": "python3"
  },
  "language_info": {
   "codemirror_mode": {
    "name": "ipython",
    "version": 3
   },
   "file_extension": ".py",
   "mimetype": "text/x-python",
   "name": "python",
   "nbconvert_exporter": "python",
   "pygments_lexer": "ipython3",
   "version": "3.6.5"
  }
 },
 "nbformat": 4,
 "nbformat_minor": 2
}
